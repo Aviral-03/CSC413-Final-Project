{
 "cells": [
  {
   "cell_type": "code",
   "execution_count": 1,
   "metadata": {},
   "outputs": [],
   "source": [
    "import os\n",
    "import cv2\n",
    "import csv\n",
    "from torchvision import transforms\n",
    "from torchvision.models import resnet50\n",
    "import torch\n",
    "import torch.nn as nn\n",
    "import torch.optim as optim\n",
    "from torch.utils.data import DataLoader, TensorDataset\n",
    "from sklearn.model_selection import train_test_split\n",
    "from sklearn.preprocessing import MultiLabelBinarizer\n",
    "from tqdm import tqdm"
   ]
  },
  {
   "cell_type": "code",
   "execution_count": 2,
   "metadata": {},
   "outputs": [],
   "source": [
    "%run './cnn.ipynb'\n",
    "%run './resnet.ipynb'"
   ]
  },
  {
   "cell_type": "code",
   "execution_count": 3,
   "metadata": {},
   "outputs": [],
   "source": [
    "def preprocess(data, mlb):\n",
    "    transform = transforms.Compose([\n",
    "        transforms.ToPILImage(),\n",
    "        transforms.Resize((224, 224)),\n",
    "        transforms.RandomHorizontalFlip(),\n",
    "        transforms.RandomRotation(20),\n",
    "        transforms.ToTensor(),\n",
    "        transforms.Normalize(mean=[0.485, 0.456, 0.406], std=[0.229, 0.224, 0.225]),\n",
    "    ])\n",
    "    imgs = []\n",
    "    labels = []\n",
    "    for item in data:\n",
    "        path = item['img_idx']\n",
    "        try:\n",
    "            if not os.path.exists(path):\n",
    "                print(f\"File not found: {path}\")\n",
    "                continue  # Skip this iteration if file does not exist\n",
    "\n",
    "            image = cv2.imread(path)\n",
    "            if image is None:\n",
    "                print(f\"Failed to load image at {path}. The image may be corrupt or in an unsupported format.\")\n",
    "                continue  # Skip this iteration if the image could not be read\n",
    "\n",
    "            image = cv2.cvtColor(image, cv2.COLOR_BGR2RGB)\n",
    "            image = transform(image)\n",
    "            imgs.append(image)\n",
    "\n",
    "            label = item['label'].split('|')\n",
    "            labels.append(label)\n",
    "        except Exception as e:\n",
    "            print(f\"Error processing {path}: {e}\")\n",
    "            continue  # Skip this iteration if any other error occurs\n",
    "\n",
    "    # Convert labels list to a multi-hot encoded matrix\n",
    "    if labels:  # Check if there are any labels to process\n",
    "        labels = mlb.fit_transform(labels)\n",
    "    else:\n",
    "        return torch.tensor([]), torch.tensor([])  # Return empty tensors if no labels\n",
    "\n",
    "    return torch.stack(imgs), torch.FloatTensor(labels)"
   ]
  },
  {
   "cell_type": "code",
   "execution_count": 4,
   "metadata": {},
   "outputs": [],
   "source": [
    "def get_accuracy(model, dataloader, device):\n",
    "    model.eval()\n",
    "    correct = 0\n",
    "    total = 0\n",
    "    with torch.no_grad():\n",
    "        for imgs, labels in dataloader:\n",
    "            imgs, labels = imgs.to(device), labels.to(device)\n",
    "            outputs = torch.sigmoid(model(imgs))  # Apply sigmoid to get predictions\n",
    "            predicted = (outputs > 0.5).float()  # Convert probabilities to binary values\n",
    "            total += labels.numel()\n",
    "            correct += (predicted == labels).sum().item()\n",
    "    return correct / total * 100\n",
    "\n",
    "def train_model(model, train_loader, val_loader, device, num_epochs=10):\n",
    "    criterion = nn.BCEWithLogitsLoss()  # Use Binary Cross Entropy with Logits Loss for multi-label\n",
    "    optimizer = optim.Adam(model.parameters(), lr=0.001)\n",
    "\n",
    "    for epoch in range(num_epochs):\n",
    "        model.train()\n",
    "        for imgs, labels in train_loader:\n",
    "            imgs, labels = imgs.to(device), labels.to(device)\n",
    "            optimizer.zero_grad()\n",
    "            outputs = model(imgs)\n",
    "            loss = criterion(outputs, labels)\n",
    "            loss.backward()\n",
    "            optimizer.step()\n",
    "\n",
    "        train_acc = get_accuracy(model, train_loader, device)\n",
    "        val_acc = get_accuracy(model, val_loader, device)\n",
    "        print(f'Epoch {epoch+1}, Train accuracy {train_acc}, Val accuracy {val_acc}')"
   ]
  },
  {
   "cell_type": "code",
   "execution_count": 23,
   "metadata": {},
   "outputs": [],
   "source": [
    "data = []\n",
    "mlb = MultiLabelBinarizer()  # Initialize multi-label binarizer\n",
    "with open('./archive/sample_labels.csv', 'r') as csvfile:\n",
    "    rows = csv.DictReader(csvfile)\n",
    "    for row in rows:\n",
    "        img_idx = row['Image Index']\n",
    "        label = row['Finding Labels']\n",
    "            \n",
    "        path = os.path.join('./archive/sample/images/', img_idx)  \n",
    "        if os.path.exists(path):  # Ensure the image exists\n",
    "            data.append({'img_idx': path, 'label': label})\n",
    "\n",
    "device = torch.device(\"cuda\" if torch.cuda.is_available() else \"cpu\")\n",
    "    \n",
    "x, y = preprocess(data, mlb)\n",
    "X_train, X_rest, y_train, y_rest = train_test_split(x, y, test_size=0.3)\n",
    "X_val, X_test, y_val, y_test = train_test_split(X_rest, y_rest, test_size=0.5)"
   ]
  },
  {
   "cell_type": "code",
   "execution_count": 26,
   "metadata": {},
   "outputs": [
    {
     "name": "stdout",
     "output_type": "stream",
     "text": [
      "Epoch 1, Train accuracy 84.4155844155844, Val accuracy 81.81818181818183\n",
      "Epoch 2, Train accuracy 79.22077922077922, Val accuracy 63.63636363636363\n",
      "Epoch 3, Train accuracy 84.4155844155844, Val accuracy 72.72727272727273\n",
      "Epoch 4, Train accuracy 97.40259740259741, Val accuracy 72.72727272727273\n",
      "Epoch 5, Train accuracy 97.40259740259741, Val accuracy 54.54545454545454\n",
      "Epoch 6, Train accuracy 96.1038961038961, Val accuracy 81.81818181818183\n",
      "Epoch 7, Train accuracy 100.0, Val accuracy 81.81818181818183\n",
      "Epoch 8, Train accuracy 100.0, Val accuracy 72.72727272727273\n",
      "Epoch 9, Train accuracy 100.0, Val accuracy 72.72727272727273\n",
      "Epoch 10, Train accuracy 100.0, Val accuracy 72.72727272727273\n",
      "Epoch 1, Train accuracy 77.92207792207793, Val accuracy 72.72727272727273\n",
      "Epoch 2, Train accuracy 64.93506493506493, Val accuracy 63.63636363636363\n",
      "Epoch 3, Train accuracy 77.92207792207793, Val accuracy 72.72727272727273\n",
      "Epoch 4, Train accuracy 71.42857142857143, Val accuracy 72.72727272727273\n",
      "Epoch 5, Train accuracy 71.42857142857143, Val accuracy 72.72727272727273\n",
      "Epoch 6, Train accuracy 71.42857142857143, Val accuracy 72.72727272727273\n",
      "Epoch 7, Train accuracy 70.12987012987013, Val accuracy 72.72727272727273\n",
      "Epoch 8, Train accuracy 66.23376623376623, Val accuracy 72.72727272727273\n",
      "Epoch 9, Train accuracy 74.02597402597402, Val accuracy 72.72727272727273\n",
      "Epoch 10, Train accuracy 74.02597402597402, Val accuracy 81.81818181818183\n"
     ]
    }
   ],
   "source": [
    "train_data = TensorDataset(X_train, y_train)\n",
    "val_data = TensorDataset(X_val, y_val)\n",
    "\n",
    "train_loader = DataLoader(train_data, batch_size=50, shuffle=True)\n",
    "val_loader = DataLoader(val_data, batch_size=50, shuffle=False)\n",
    "\n",
    "cnn_model = CNN(num_classes=len(mlb.classes_)).to(device) \n",
    "\n",
    "resnet_model = ResNet(Block, [3, 4, 6, 3], num_classes=len(mlb.classes_)).to(device) \n",
    "    \n",
    "train_model(cnn_model, train_loader, val_loader, device)\n",
    "train_model(resnet_model, train_loader, val_loader, device)"
   ]
  }
 ],
 "metadata": {
  "kernelspec": {
   "display_name": "Python 3",
   "language": "python",
   "name": "python3"
  },
  "language_info": {
   "codemirror_mode": {
    "name": "ipython",
    "version": 3
   },
   "file_extension": ".py",
   "mimetype": "text/x-python",
   "name": "python",
   "nbconvert_exporter": "python",
   "pygments_lexer": "ipython3",
   "version": "3.8.1"
  }
 },
 "nbformat": 4,
 "nbformat_minor": 2
}
